{
 "cells": [
  {
   "cell_type": "code",
   "execution_count": 0,
   "metadata": {
    "application/vnd.databricks.v1+cell": {
     "cellMetadata": {
      "byteLimit": 2048000,
      "rowLimit": 10000
     },
     "inputWidgets": {},
     "nuid": "63e2211e-8e62-46ab-b046-bc809abea24f",
     "showTitle": false,
     "tableResultSettingsMap": {},
     "title": ""
    }
   },
   "outputs": [
    {
     "output_type": "execute_result",
     "data": {
      "text/plain": [
       "[]"
      ]
     },
     "execution_count": 6,
     "metadata": {},
     "output_type": "execute_result"
    }
   ],
   "source": [
    "# Required each time the cluster is restarted which should be only on the first notebook as they run in orde\n",
    "tiers = [\"bronze\",\"silver\",\"gold\"]\n",
    "\n",
    "adls_paths = { tier : f\"abfss://{tier}@epdatalake123.dfs.core.windows.net/\" for tier in tiers }\n",
    "\n",
    "bronze_adls = adls_paths[\"bronze\"]\n",
    "silver_adls = adls_paths[\"silver\"]\n",
    "gold_adls = adls_paths[\"gold\"]\n",
    "\n",
    "dbutils.fs.ls(bronze_adls)\n",
    "dbutils.fs.ls(silver_adls)\n",
    "dbutils.fs.ls(gold_adls)\n",
    "\n"
   ]
  },
  {
   "cell_type": "code",
   "execution_count": 0,
   "metadata": {
    "application/vnd.databricks.v1+cell": {
     "cellMetadata": {
      "byteLimit": 2048000,
      "rowLimit": 10000
     },
     "inputWidgets": {},
     "nuid": "1722af77-8f2e-4657-9df1-681325b00915",
     "showTitle": false,
     "tableResultSettingsMap": {},
     "title": ""
    }
   },
   "outputs": [],
   "source": [
    "import requests\n",
    "import json\n",
    "from datetime import timedelta, date\n",
    "from pyspark.sql.functions import *\n",
    "from pyspark.sql.types import * "
   ]
  },
  {
   "cell_type": "code",
   "execution_count": 0,
   "metadata": {
    "application/vnd.databricks.v1+cell": {
     "cellMetadata": {
      "byteLimit": 2048000,
      "rowLimit": 10000
     },
     "inputWidgets": {},
     "nuid": "13d27d12-19e5-44b3-b365-ccef80fa408b",
     "showTitle": false,
     "tableResultSettingsMap": {},
     "title": ""
    }
   },
   "outputs": [],
   "source": [
    "start_date = date.today() - timedelta(1)\n",
    "end_date = date.today()"
   ]
  },
  {
   "cell_type": "code",
   "execution_count": 0,
   "metadata": {
    "application/vnd.databricks.v1+cell": {
     "cellMetadata": {
      "byteLimit": 2048000,
      "rowLimit": 10000
     },
     "inputWidgets": {},
     "nuid": "5c96575b-bc8f-4e44-9f12-f40480c31f0b",
     "showTitle": false,
     "tableResultSettingsMap": {},
     "title": ""
    }
   },
   "outputs": [
    {
     "output_type": "stream",
     "name": "stdout",
     "output_type": "stream",
     "text": [
      "Wrote 267840 bytes.\ndata sucessfully saved to abfss://bronze@epdatalake123.dfs.core.windows.net//2025-03-27__earthquake_data.json\n"
     ]
    }
   ],
   "source": [
    "# Construct the API URL with start and end dates provided by Data Factory, formatted for geojson output.\n",
    "url = f\"https://earthquake.usgs.gov/fdsnws/event/1/query?format=geojson&starttime={start_date}&endtime={end_date}\"\n",
    "\n",
    "\n",
    "try:\n",
    "    # Make the GET request to fetch data\n",
    "    response = requests.get(url)\n",
    "    # Check if the request was successful\n",
    "    response.raise_for_status()  # Raise HTTPError for bad responses (4xx or 5xx)\n",
    "    data = response.json().get('features', [])\n",
    "\n",
    "    if not data: \n",
    "         print(\"No data returned for the specified date range\")\n",
    "    else:\n",
    "        \n",
    "        # Specify the ADLS path\n",
    "        file_path = f\"{bronze_adls}{start_date}_earthquake_data.json\"\n",
    "\n",
    "        # Save the JSON data to ADLS\n",
    "        json_data = json.dumps(data, indent=4)\n",
    "        dbutils.fs.put(file_path, json_data, overwrite=True)\n",
    "        print(f\"data sucessfully saved to {file_path}\")\n",
    "except requests.exceptions.RequestException as e:\n",
    "    print(f\"error fetchig data from API:{e}\")        "
   ]
  },
  {
   "cell_type": "code",
   "execution_count": 0,
   "metadata": {
    "application/vnd.databricks.v1+cell": {
     "cellMetadata": {
      "byteLimit": 2048000,
      "rowLimit": 10000
     },
     "inputWidgets": {},
     "nuid": "41217321-ed67-4b8c-98fc-2b0ec735bbc2",
     "showTitle": false,
     "tableResultSettingsMap": {},
     "title": ""
    }
   },
   "outputs": [
    {
     "output_type": "execute_result",
     "data": {
      "text/plain": [
       "{'type': 'Feature',\n",
       " 'properties': {'mag': -0.61,\n",
       "  'place': '83 km NNW of Karluk, Alaska',\n",
       "  'time': 1743119514350,\n",
       "  'updated': 1743139564820,\n",
       "  'tz': None,\n",
       "  'url': 'https://earthquake.usgs.gov/earthquakes/eventpage/av93037249',\n",
       "  'detail': 'https://earthquake.usgs.gov/fdsnws/event/1/query?eventid=av93037249&format=geojson',\n",
       "  'felt': None,\n",
       "  'cdi': None,\n",
       "  'mmi': None,\n",
       "  'alert': None,\n",
       "  'status': 'reviewed',\n",
       "  'tsunami': 0,\n",
       "  'sig': 0,\n",
       "  'net': 'av',\n",
       "  'code': '93037249',\n",
       "  'ids': ',av93037249,',\n",
       "  'sources': ',av,',\n",
       "  'types': ',origin,phase-data,',\n",
       "  'nst': 7,\n",
       "  'dmin': 0.05923,\n",
       "  'rms': 0.09,\n",
       "  'gap': 105,\n",
       "  'magType': 'ml',\n",
       "  'type': 'earthquake',\n",
       "  'title': 'M -0.6 - 83 km NNW of Karluk, Alaska'},\n",
       " 'geometry': {'type': 'Point',\n",
       "  'coordinates': [-155.112333333333, 58.2336666666667, 3.27]},\n",
       " 'id': 'av93037249'}"
      ]
     },
     "execution_count": 7,
     "metadata": {},
     "output_type": "execute_result"
    }
   ],
   "source": [
    "data[0]"
   ]
  },
  {
   "cell_type": "code",
   "execution_count": 0,
   "metadata": {
    "application/vnd.databricks.v1+cell": {
     "cellMetadata": {
      "byteLimit": 2048000,
      "rowLimit": 10000
     },
     "inputWidgets": {},
     "nuid": "c18597c6-d315-4833-a859-8197e54d49dd",
     "showTitle": false,
     "tableResultSettingsMap": {},
     "title": ""
    }
   },
   "outputs": [],
   "source": [
    "# Define your variables\n",
    "output_data = {\"start_date\" : start_date.isoformat(),\n",
    "               \"end_date\" : end_date.isoformat(),\n",
    "               \"bronze_adls\" : bronze_adls,\n",
    "               \"silver_adls\" : silver_adls,\n",
    "               \"gold_adls\" : gold_adls\n",
    "}\n",
    "# Return the dictionary directly\n",
    "dbutils.jobs.taskValues.set(key = \"bronze_output\", value = output_data)"
   ]
  }
 ],
 "metadata": {
  "application/vnd.databricks.v1+notebook": {
   "computePreferences": null,
   "dashboards": [],
   "environmentMetadata": {
    "base_environment": "",
    "environment_version": "2"
   },
   "inputWidgetPreferences": null,
   "language": "python",
   "notebookMetadata": {
    "pythonIndentUnit": 4
   },
   "notebookName": "Bronze Notebook",
   "widgets": {}
  },
  "language_info": {
   "name": "python"
  }
 },
 "nbformat": 4,
 "nbformat_minor": 0
}